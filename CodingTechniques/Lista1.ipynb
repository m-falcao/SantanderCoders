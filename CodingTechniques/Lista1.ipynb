{
  "cells": [
    {
      "cell_type": "markdown",
      "metadata": {
        "id": "view-in-github",
        "colab_type": "text"
      },
      "source": [
        "<a href=\"https://colab.research.google.com/github/m-falcao/SantanderCoders/blob/main/CodingTechniques/Lista1.ipynb\" target=\"_parent\"><img src=\"https://colab.research.google.com/assets/colab-badge.svg\" alt=\"Open In Colab\"/></a>"
      ]
    },
    {
      "cell_type": "markdown",
      "id": "03019251",
      "metadata": {
        "id": "03019251"
      },
      "source": [
        "# Lista 1 - NumPy\n",
        "\n",
        "## Exercícios\n",
        "\n",
        "Para a resolução dos exercícios abaixo, utilize todas as ferramentas e métodos do NumPy aprendidos em aula e existe algumas outras métodos que podem ser úteis na documentação [_NumPy Documentation_](https://numpy.org/doc/). Durante a correção, não será considerado exercícios que não utilizar a ferramenta (muitos deles da pra responder apenas com Python, mas não é esse o intuito da lista).\n",
        "\n",
        "__Funcionamento dos Exercícios:__ todos os exercícios são do estilo onde será preciso criar uma função para resolver a proposta do enunciado. Será avaliado apenas a função, mas sugiro que crie casos de testes para avaliar se a função está operando corretamente.\n",
        "\n",
        "__Avaliação e Entrega:__ São 5 exercícios que valem 10 pontos, e a entrega vai ser na forma de um notebook através da tarefa criada no Class.\n",
        "\n",
        "__Data Limite para Entrega:__ Próxima aula 19/02\n",
        "\n",
        "\n",
        "### 1) Restaurantes Mais Próximos\n",
        "\n",
        "Perto da casa de João existem vários restaurantes que entregam comida e João deseja fazer um pedido, mas ele tem um compromisso marcado e não pode esperar muito tempo. Então João quer saber qual é o restaurante mais próximo da residencial dele utilizando da distância Euclidiana, cuja a fórmula é dado pela equação a seguir:\n",
        "\n",
        "<img align=\"center\" src=\"https://i.upmath.me/svg/%20d(A%2C%20B)%20%3D%20%5Csqrt%7B(x_%7BA%2C%201%7D%20-%20x_%7BB%2C%201%7D)%5E%7B2%7D%20%2B%20(x_%7BA%2C%202%7D%20-%20x_%7BB%2C%202%7D)%5E%7B2%7D%20%2B%20...%20%2B%20(x_%7BA%2C%20n%7D%20-%20x_%7BB%2C%20n%7D)%5E%7B2%7D%7D\" alt=\" d(A, B) = \\sqrt{(x_{A, 1} - x_{B, 1})^{2} + (x_{A, 2} - x_{B, 2})^{2} + ... + (x_{A, n} - x_{B, n})^{2}}\" />\n",
        "\n",
        "Desenvolva uma função chamada `restaurante_mais_proximo` que irá receber como parâmetros respectivamente __uma lista de coordenadas da casa do João__ e __uma lista com 4 listas com as coordenadas dos restaurantes a verificar__ e o retorno da função deve ser __o número referente ao restaurante mais próximo__. Importante ressaltar que o número do restaurante começa pelo 1 e que em caso de empate, deve-se indicar __o primeiro restaurante a apresentar a menor distância__."
      ]
    },
    {
      "cell_type": "code",
      "execution_count": 1,
      "id": "0c6cfde0",
      "metadata": {
        "id": "0c6cfde0"
      },
      "outputs": [],
      "source": [
        "import numpy as np"
      ]
    },
    {
      "cell_type": "code",
      "execution_count": null,
      "id": "cc8787b4",
      "metadata": {
        "id": "cc8787b4"
      },
      "outputs": [],
      "source": [
        "# exemplo de entrada\n",
        "# lembrando que pode ter n coordenadas\n",
        "restaurantes = [[1, 3, 5], [2, 4, 0], [3, 3, 3], [1, 6, 6]]\n",
        "joao = [0, 1, 2]"
      ]
    },
    {
      "cell_type": "code",
      "execution_count": null,
      "id": "3784fe0d",
      "metadata": {
        "id": "3784fe0d"
      },
      "outputs": [],
      "source": [
        "def find_nearest_restaurant(home, restaurant):\n",
        "    home = np.array(home)\n",
        "    restaurant = np.array(restaurant)\n",
        "\n",
        "    euclidean_distance = np.sqrt(np.sum(np.power(np.array(home)-np.array(restaurant),2),axis=1))\n",
        "\n",
        "    nearest_restaurant = np.argmin(euclidean_distance)\n",
        "    return nearest_restaurant"
      ]
    },
    {
      "cell_type": "markdown",
      "id": "c4acd507",
      "metadata": {
        "id": "c4acd507"
      },
      "source": [
        "## 2) Ordenando pelo MMC\n",
        "\n",
        "O Mínimo Múltiplo Comum (MMC) de dois ou mais números é definido pelo múltiplo comum corresponde a todos os números observados. Por exemplo o MMC entre 6 e 10 é o 30 devido aos número 2, 3 e 5. O objetivo deste exercício, além de calcular o MMC será ordenar a lista utilizando o MMC. Portanto desenvolva a função `ordenar_mmc` onde como entrada irá receber uma lista de números e um número a parte de referência. A função deve calcular O MMC de cada um dos números da lista em relação ao de referência e em seguida ordenar os números originais de acordo com o MMC do menor valor para o maior, como o exemplo a seguir:\n",
        "\n",
        "```python\n",
        "# lista de entrada\n",
        "lista = [12, 8, 10]\n",
        "\n",
        "# numero de referência\n",
        "ref = 4\n",
        "\n",
        "# utilizando a função\n",
        "print(ordenar_mmc(lista, ref))\n",
        "\n",
        "# Resultado da função, pois o mmcs = [12, 8, 20]\n",
        "[8, 12, 10]\n",
        "```"
      ]
    },
    {
      "cell_type": "code",
      "source": [
        "lista = [12, 8, 10]\n",
        "\n",
        "# numero de referência\n",
        "ref = 4"
      ],
      "metadata": {
        "id": "0d8HyvVev4tN"
      },
      "id": "0d8HyvVev4tN",
      "execution_count": 2,
      "outputs": []
    },
    {
      "cell_type": "code",
      "execution_count": 13,
      "id": "092c27f2",
      "metadata": {
        "id": "092c27f2"
      },
      "outputs": [],
      "source": [
        "def ordenar_mmc(lista, ref):\n",
        "    mmc_array = np.lcm(lista,ref)\n",
        "    mmc_array_sorted_index = np.argsort(mmc_array)\n",
        "    mmc_array_sorted = np.zeros(len(lista), dtype = int)\n",
        "\n",
        "    for elem_index in range(len(lista)):\n",
        "      mmc_array_sorted[elem_index] = lista[mmc_array_sorted_index[elem_index]]\n",
        "\n",
        "    return mmc_array_sorted"
      ]
    },
    {
      "cell_type": "code",
      "source": [
        "ordenar_mmc(lista, ref)"
      ],
      "metadata": {
        "colab": {
          "base_uri": "https://localhost:8080/"
        },
        "id": "QlFGPx_lv8Y5",
        "outputId": "075cdda7-e47b-430c-af34-9301e7149858"
      },
      "id": "QlFGPx_lv8Y5",
      "execution_count": 14,
      "outputs": [
        {
          "output_type": "execute_result",
          "data": {
            "text/plain": [
              "array([ 8, 12, 10])"
            ]
          },
          "metadata": {},
          "execution_count": 14
        }
      ]
    },
    {
      "cell_type": "markdown",
      "id": "76d5dd27",
      "metadata": {
        "id": "76d5dd27"
      },
      "source": [
        "### 3) Normalização ou Z-Score\n",
        "\n",
        "A normalização (também conhecido como Z-Score) é uma ferramenta muito importante da estatística onde para um conjunto de dados, calcula-se quais serão os respectivos valores se aquele conjunto de dados seguir uma dstribuição normal. O objetivo deste exercício será desenvolver a função `z_score`, onde dado uma lista de entrada com um conjunto de dados quaisquer, devolve a lista com os respectivos Z-Scores dos dados, seguindo a função $z = \\frac{x - \\mu}{\\sigma}$, onde $\\mu$ é a média do conjunto de dados e $\\sigma$ é o desvio padrão do mesmo (arredonde os valores para 4 casas decimais)."
      ]
    },
    {
      "cell_type": "code",
      "execution_count": null,
      "id": "c358b5aa",
      "metadata": {
        "id": "c358b5aa"
      },
      "outputs": [],
      "source": [
        "lista = [4, 6, 7, 8, 9]\n",
        "\n",
        "# primeiro passo = calcular a media da lista\n",
        "# segundo passo = calcular o desvio padrao\n",
        "# terceiro passo calcular o z = (x- media)/desvio padrao\n",
        "# por fim arredonda com o np.round(numero, 4)"
      ]
    },
    {
      "cell_type": "code",
      "execution_count": null,
      "id": "32940c8a",
      "metadata": {
        "id": "32940c8a"
      },
      "outputs": [],
      "source": [
        "def z_score(data):\n",
        "    data_array = np.array(data)\n",
        "    list_mean = np.mean(data_array)\n",
        "    list_std = np.std(data_array)\n",
        "\n",
        "    map_z_score = (data_array-list_mean)/list_std\n",
        "\n",
        "    z_score_list = np.round(map_z_score, 4)\n",
        "\n",
        "    return z_score_list"
      ]
    },
    {
      "cell_type": "markdown",
      "id": "8a0e5aa1",
      "metadata": {
        "id": "8a0e5aa1"
      },
      "source": [
        "### 4) Escalonamento MinMaxScaler\n",
        "\n",
        "De forma anáçoga a normalização, o MinMaxScaler altera a escala a ser utilizada em um conjunto de dados, onde busca-se os valores máximo e mínimo de um conjunto de dados para depois transformar em uma escala que varia entre esses valores. O objetivo deste exercício será desenvolver uma função chamada `minmaxscaler` que irá receber como entrada um conjunto de dados e de saída será uma lista com os valores na nova escala seguindo a função $y = \\frac{x - min}{max - min}$ (arredonde para 3 casas decimais)."
      ]
    },
    {
      "cell_type": "code",
      "execution_count": null,
      "id": "bcd35013",
      "metadata": {
        "id": "bcd35013"
      },
      "outputs": [],
      "source": [
        "# primeiro passo = calcula o min e max\n",
        "# segundo passo = calcula o y = (x-min)/(max-min)\n",
        "# por fim arredonda com 4 casas"
      ]
    },
    {
      "cell_type": "code",
      "execution_count": null,
      "id": "7e05a653",
      "metadata": {
        "id": "7e05a653"
      },
      "outputs": [],
      "source": [
        "def minmaxscaler(data):\n",
        "    arr_data = np.array(data)\n",
        "    min_data = np.min(arr_data)\n",
        "    max_data = np.max(arr_data)\n",
        "\n",
        "    y = np.round((arr_data-min_data)/(max_data-min_data), 3)\n",
        "\n",
        "    return y"
      ]
    },
    {
      "cell_type": "markdown",
      "id": "d162de14",
      "metadata": {
        "id": "d162de14"
      },
      "source": [
        "### 5) Matching entre Vetores\n",
        "\n",
        "No contexto de Machine Learning, um processo bem comum é de comparar respostas entre vetores para entender o quão acertivo foi um determinado modelo. Dado um contexto, desenvolva a função `vector_matching` que verifica posição a posição destes vetores, que valores de zeros e uns foram acertados. Para esta função têm-se como entrada __dois vetores de dimensões iguais__ preenchidos com 0 ou 1 e a saída da função será o percentual de acerto entre os vetores (arredonde o percentual para 1 casa decimal)."
      ]
    },
    {
      "cell_type": "code",
      "source": [
        "import numpy as np"
      ],
      "metadata": {
        "id": "bvUaGH5W0x2e"
      },
      "id": "bvUaGH5W0x2e",
      "execution_count": 3,
      "outputs": []
    },
    {
      "cell_type": "code",
      "execution_count": 20,
      "id": "500170b0",
      "metadata": {
        "id": "500170b0"
      },
      "outputs": [],
      "source": [
        "def vector_matching(v1, v2):\n",
        "    arr_v1 = np.array(v1)\n",
        "    arr_v2 = np.array(v2)\n",
        "\n",
        "    mask1 = arr_v1==arr_v2\n",
        "    arr_v1[mask1] = -1\n",
        "\n",
        "    unique, counts = np.unique(arr_v1, return_counts=True)\n",
        "    tamanho = np.size(arr_v1)\n",
        "    iguais = counts[0]\n",
        "    matching = np.round(iguais/tamanho ,1)\n",
        "    return matching\n"
      ]
    },
    {
      "cell_type": "code",
      "source": [
        "vector_matching([1,1,1], [0,1,0])"
      ],
      "metadata": {
        "colab": {
          "base_uri": "https://localhost:8080/"
        },
        "id": "8I11r5lCC5Gm",
        "outputId": "d9bdbc6e-c4be-486e-b4e8-de63d1f07c91"
      },
      "id": "8I11r5lCC5Gm",
      "execution_count": 21,
      "outputs": [
        {
          "output_type": "execute_result",
          "data": {
            "text/plain": [
              "0.3"
            ]
          },
          "metadata": {},
          "execution_count": 21
        }
      ]
    }
  ],
  "metadata": {
    "kernelspec": {
      "display_name": "Python 3 (ipykernel)",
      "language": "python",
      "name": "python3"
    },
    "language_info": {
      "codemirror_mode": {
        "name": "ipython",
        "version": 3
      },
      "file_extension": ".py",
      "mimetype": "text/x-python",
      "name": "python",
      "nbconvert_exporter": "python",
      "pygments_lexer": "ipython3",
      "version": "3.9.13"
    },
    "colab": {
      "provenance": [],
      "include_colab_link": true
    }
  },
  "nbformat": 4,
  "nbformat_minor": 5
}