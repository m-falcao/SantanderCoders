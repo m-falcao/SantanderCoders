{
  "nbformat": 4,
  "nbformat_minor": 0,
  "metadata": {
    "colab": {
      "provenance": [],
      "authorship_tag": "ABX9TyNzLMBVYASLusTEIRfKPPS0",
      "include_colab_link": true
    },
    "kernelspec": {
      "name": "python3",
      "display_name": "Python 3"
    },
    "language_info": {
      "name": "python"
    }
  },
  "cells": [
    {
      "cell_type": "markdown",
      "metadata": {
        "id": "view-in-github",
        "colab_type": "text"
      },
      "source": [
        "<a href=\"https://colab.research.google.com/github/m-falcao/SantanderCoders/blob/main/MetodoSimpson.ipynb\" target=\"_parent\"><img src=\"https://colab.research.google.com/assets/colab-badge.svg\" alt=\"Open In Colab\"/></a>"
      ]
    },
    {
      "cell_type": "markdown",
      "source": [
        "Escreva um programa que calcula a integral da função  f(x)=xm , com  m  natural dado pelo usuário, entre o valores  a=x1  e  b=x2  (informados pelo usuário, onde  x1≤x2  ),\n",
        "pelo método 1/3 de Simpson, com número de passos  n , um inteiro par, também informado pelo usuário."
      ],
      "metadata": {
        "id": "-BcUxBTji6sc"
      }
    },
    {
      "cell_type": "code",
      "execution_count": null,
      "metadata": {
        "id": "RF0kpXfii3P_"
      },
      "outputs": [],
      "source": [
        "def terco_simpson(a, b, m, n):\n",
        "  h = (b-a)/n\n",
        "  resultado_inicial = (h/(3))*(pow(a,m) + pow(b,m) )\n",
        "  resultado_parcial = 0\n",
        "  for passo in range(1, n):\n",
        "    if passo % 2 != 0:\n",
        "      resultado_parcial += (h/(3))*(4*pow((a + passo*(h)),m))\n",
        "    else:\n",
        "      resultado_parcial += (h/(3))*(2*pow((a + passo*(h)),m))\n",
        "  resultado = resultado_inicial + resultado_parcial\n",
        "  return resultado\n"
      ]
    }
  ]
}