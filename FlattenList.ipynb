{
  "nbformat": 4,
  "nbformat_minor": 0,
  "metadata": {
    "colab": {
      "provenance": [],
      "authorship_tag": "ABX9TyN9bjGKVklHDodV3oXkQwFa",
      "include_colab_link": true
    },
    "kernelspec": {
      "name": "python3",
      "display_name": "Python 3"
    },
    "language_info": {
      "name": "python"
    }
  },
  "cells": [
    {
      "cell_type": "markdown",
      "metadata": {
        "id": "view-in-github",
        "colab_type": "text"
      },
      "source": [
        "<a href=\"https://colab.research.google.com/github/m-falcao/SantanderCoders/blob/main/FlattenList.ipynb\" target=\"_parent\"><img src=\"https://colab.research.google.com/assets/colab-badge.svg\" alt=\"Open In Colab\"/></a>"
      ]
    },
    {
      "cell_type": "markdown",
      "source": [
        "Create a single list that has all the elements of another list with several elements inside, including lists."
      ],
      "metadata": {
        "id": "-L_fTUBVXFfA"
      }
    },
    {
      "cell_type": "code",
      "source": [
        "def arrumar_lista(lista, lista_arrumada=[]):\n",
        "  for elemento in lista:\n",
        "    if type(elemento) == list:\n",
        "      arrumar_lista(elemento,lista_arrumada)\n",
        "    else:\n",
        "      lista_arrumada.append(elemento)\n",
        "  return lista_arrumada"
      ],
      "metadata": {
        "id": "Ml6bZwdLXFFf",
        "colab": {
          "base_uri": "https://localhost:8080/"
        },
        "outputId": "0d094eeb-4686-474d-ba62-b3b58c6287d5"
      },
      "execution_count": 21,
      "outputs": [
        {
          "output_type": "stream",
          "name": "stdout",
          "text": [
            "['Curso', 12, 'casa', 3, 14, 3, 9, -10, 'Santos', 'Fluminense', 10, True]\n"
          ]
        }
      ]
    }
  ]
}