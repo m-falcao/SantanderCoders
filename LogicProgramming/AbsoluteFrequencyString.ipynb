{
  "nbformat": 4,
  "nbformat_minor": 0,
  "metadata": {
    "colab": {
      "provenance": [],
      "authorship_tag": "ABX9TyN+61DEAVhTZKteBzAi+AuM",
      "include_colab_link": true
    },
    "kernelspec": {
      "name": "python3",
      "display_name": "Python 3"
    },
    "language_info": {
      "name": "python"
    }
  },
  "cells": [
    {
      "cell_type": "markdown",
      "metadata": {
        "id": "view-in-github",
        "colab_type": "text"
      },
      "source": [
        "<a href=\"https://colab.research.google.com/github/m-falcao/SantanderCoders/blob/main/LogicProgramming/AbsoluteFrequencyString.ipynb\" target=\"_parent\"><img src=\"https://colab.research.google.com/assets/colab-badge.svg\" alt=\"Open In Colab\"/></a>"
      ]
    },
    {
      "cell_type": "markdown",
      "source": [
        "Write a program that receives a string from the user and displays a dictionary with the keys, each character in the string being the value of its absolute frequency"
      ],
      "metadata": {
        "id": "J4W8YQDsw50v"
      }
    },
    {
      "cell_type": "code",
      "execution_count": 24,
      "metadata": {
        "id": "YrfwG9h_w5NT"
      },
      "outputs": [],
      "source": [
        "def count_string(phrase):\n",
        "  phrase = phrase.lower()\n",
        "  string_dict = {}\n",
        "  for caracter in phrase:\n",
        "    if caracter in string_dict.keys():\n",
        "      string_dict[caracter] += 1\n",
        "    else:\n",
        "      string_dict[caracter] = 1\n",
        "  return string_dict\n",
        "\n"
      ]
    }
  ]
}